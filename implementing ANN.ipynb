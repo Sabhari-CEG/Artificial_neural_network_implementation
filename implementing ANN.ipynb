{
 "cells": [
  {
   "cell_type": "code",
   "execution_count": 1,
   "id": "26d65836",
   "metadata": {},
   "outputs": [],
   "source": [
    "import pandas as pd\n",
    "import numpy as np\n",
    "import matplotlib.pyplot as plt\n",
    "import seaborn as sns"
   ]
  },
  {
   "cell_type": "code",
   "execution_count": 2,
   "id": "53e53583",
   "metadata": {},
   "outputs": [],
   "source": [
    "data = pd.read_csv('dataANN.csv')"
   ]
  },
  {
   "cell_type": "code",
   "execution_count": 3,
   "id": "f35ebd3a",
   "metadata": {},
   "outputs": [
    {
     "data": {
      "text/plain": [
       "(70000, 14)"
      ]
     },
     "execution_count": 3,
     "metadata": {},
     "output_type": "execute_result"
    }
   ],
   "source": [
    "data.shape"
   ]
  },
  {
   "cell_type": "code",
   "execution_count": 4,
   "id": "6dd3b1b3",
   "metadata": {},
   "outputs": [
    {
     "data": {
      "text/html": [
       "<div>\n",
       "<style scoped>\n",
       "    .dataframe tbody tr th:only-of-type {\n",
       "        vertical-align: middle;\n",
       "    }\n",
       "\n",
       "    .dataframe tbody tr th {\n",
       "        vertical-align: top;\n",
       "    }\n",
       "\n",
       "    .dataframe thead th {\n",
       "        text-align: right;\n",
       "    }\n",
       "</style>\n",
       "<table border=\"1\" class=\"dataframe\">\n",
       "  <thead>\n",
       "    <tr style=\"text-align: right;\">\n",
       "      <th></th>\n",
       "      <th>id</th>\n",
       "      <th>age_days</th>\n",
       "      <th>age_year</th>\n",
       "      <th>gender</th>\n",
       "      <th>height</th>\n",
       "      <th>weight</th>\n",
       "      <th>ap_hi</th>\n",
       "      <th>ap_lo</th>\n",
       "      <th>cholesterol</th>\n",
       "      <th>gluc</th>\n",
       "      <th>smoke</th>\n",
       "      <th>alco</th>\n",
       "      <th>active</th>\n",
       "      <th>cardio</th>\n",
       "    </tr>\n",
       "  </thead>\n",
       "  <tbody>\n",
       "    <tr>\n",
       "      <th>0</th>\n",
       "      <td>0</td>\n",
       "      <td>18393</td>\n",
       "      <td>50.391781</td>\n",
       "      <td>2</td>\n",
       "      <td>168</td>\n",
       "      <td>62.0</td>\n",
       "      <td>110</td>\n",
       "      <td>80</td>\n",
       "      <td>1</td>\n",
       "      <td>1</td>\n",
       "      <td>0</td>\n",
       "      <td>0</td>\n",
       "      <td>1</td>\n",
       "      <td>0</td>\n",
       "    </tr>\n",
       "    <tr>\n",
       "      <th>1</th>\n",
       "      <td>1</td>\n",
       "      <td>20228</td>\n",
       "      <td>55.419178</td>\n",
       "      <td>1</td>\n",
       "      <td>156</td>\n",
       "      <td>85.0</td>\n",
       "      <td>140</td>\n",
       "      <td>90</td>\n",
       "      <td>3</td>\n",
       "      <td>1</td>\n",
       "      <td>0</td>\n",
       "      <td>0</td>\n",
       "      <td>1</td>\n",
       "      <td>1</td>\n",
       "    </tr>\n",
       "    <tr>\n",
       "      <th>2</th>\n",
       "      <td>2</td>\n",
       "      <td>18857</td>\n",
       "      <td>51.663014</td>\n",
       "      <td>1</td>\n",
       "      <td>165</td>\n",
       "      <td>64.0</td>\n",
       "      <td>130</td>\n",
       "      <td>70</td>\n",
       "      <td>3</td>\n",
       "      <td>1</td>\n",
       "      <td>0</td>\n",
       "      <td>0</td>\n",
       "      <td>0</td>\n",
       "      <td>1</td>\n",
       "    </tr>\n",
       "    <tr>\n",
       "      <th>3</th>\n",
       "      <td>3</td>\n",
       "      <td>17623</td>\n",
       "      <td>48.282192</td>\n",
       "      <td>2</td>\n",
       "      <td>169</td>\n",
       "      <td>82.0</td>\n",
       "      <td>150</td>\n",
       "      <td>100</td>\n",
       "      <td>1</td>\n",
       "      <td>1</td>\n",
       "      <td>0</td>\n",
       "      <td>0</td>\n",
       "      <td>1</td>\n",
       "      <td>1</td>\n",
       "    </tr>\n",
       "    <tr>\n",
       "      <th>4</th>\n",
       "      <td>4</td>\n",
       "      <td>17474</td>\n",
       "      <td>47.873973</td>\n",
       "      <td>1</td>\n",
       "      <td>156</td>\n",
       "      <td>56.0</td>\n",
       "      <td>100</td>\n",
       "      <td>60</td>\n",
       "      <td>1</td>\n",
       "      <td>1</td>\n",
       "      <td>0</td>\n",
       "      <td>0</td>\n",
       "      <td>0</td>\n",
       "      <td>0</td>\n",
       "    </tr>\n",
       "    <tr>\n",
       "      <th>...</th>\n",
       "      <td>...</td>\n",
       "      <td>...</td>\n",
       "      <td>...</td>\n",
       "      <td>...</td>\n",
       "      <td>...</td>\n",
       "      <td>...</td>\n",
       "      <td>...</td>\n",
       "      <td>...</td>\n",
       "      <td>...</td>\n",
       "      <td>...</td>\n",
       "      <td>...</td>\n",
       "      <td>...</td>\n",
       "      <td>...</td>\n",
       "      <td>...</td>\n",
       "    </tr>\n",
       "    <tr>\n",
       "      <th>69995</th>\n",
       "      <td>99993</td>\n",
       "      <td>19240</td>\n",
       "      <td>52.712329</td>\n",
       "      <td>2</td>\n",
       "      <td>168</td>\n",
       "      <td>76.0</td>\n",
       "      <td>120</td>\n",
       "      <td>80</td>\n",
       "      <td>1</td>\n",
       "      <td>1</td>\n",
       "      <td>1</td>\n",
       "      <td>0</td>\n",
       "      <td>1</td>\n",
       "      <td>0</td>\n",
       "    </tr>\n",
       "    <tr>\n",
       "      <th>69996</th>\n",
       "      <td>99995</td>\n",
       "      <td>22601</td>\n",
       "      <td>61.920548</td>\n",
       "      <td>1</td>\n",
       "      <td>158</td>\n",
       "      <td>126.0</td>\n",
       "      <td>140</td>\n",
       "      <td>90</td>\n",
       "      <td>2</td>\n",
       "      <td>2</td>\n",
       "      <td>0</td>\n",
       "      <td>0</td>\n",
       "      <td>1</td>\n",
       "      <td>1</td>\n",
       "    </tr>\n",
       "    <tr>\n",
       "      <th>69997</th>\n",
       "      <td>99996</td>\n",
       "      <td>19066</td>\n",
       "      <td>52.235616</td>\n",
       "      <td>2</td>\n",
       "      <td>183</td>\n",
       "      <td>105.0</td>\n",
       "      <td>180</td>\n",
       "      <td>90</td>\n",
       "      <td>3</td>\n",
       "      <td>1</td>\n",
       "      <td>0</td>\n",
       "      <td>1</td>\n",
       "      <td>0</td>\n",
       "      <td>1</td>\n",
       "    </tr>\n",
       "    <tr>\n",
       "      <th>69998</th>\n",
       "      <td>99998</td>\n",
       "      <td>22431</td>\n",
       "      <td>61.454795</td>\n",
       "      <td>1</td>\n",
       "      <td>163</td>\n",
       "      <td>72.0</td>\n",
       "      <td>135</td>\n",
       "      <td>80</td>\n",
       "      <td>1</td>\n",
       "      <td>2</td>\n",
       "      <td>0</td>\n",
       "      <td>0</td>\n",
       "      <td>0</td>\n",
       "      <td>1</td>\n",
       "    </tr>\n",
       "    <tr>\n",
       "      <th>69999</th>\n",
       "      <td>99999</td>\n",
       "      <td>20540</td>\n",
       "      <td>56.273973</td>\n",
       "      <td>1</td>\n",
       "      <td>170</td>\n",
       "      <td>72.0</td>\n",
       "      <td>120</td>\n",
       "      <td>80</td>\n",
       "      <td>2</td>\n",
       "      <td>1</td>\n",
       "      <td>0</td>\n",
       "      <td>0</td>\n",
       "      <td>1</td>\n",
       "      <td>0</td>\n",
       "    </tr>\n",
       "  </tbody>\n",
       "</table>\n",
       "<p>70000 rows × 14 columns</p>\n",
       "</div>"
      ],
      "text/plain": [
       "          id  age_days   age_year  gender  height  weight  ap_hi  ap_lo  \\\n",
       "0          0     18393  50.391781       2     168    62.0    110     80   \n",
       "1          1     20228  55.419178       1     156    85.0    140     90   \n",
       "2          2     18857  51.663014       1     165    64.0    130     70   \n",
       "3          3     17623  48.282192       2     169    82.0    150    100   \n",
       "4          4     17474  47.873973       1     156    56.0    100     60   \n",
       "...      ...       ...        ...     ...     ...     ...    ...    ...   \n",
       "69995  99993     19240  52.712329       2     168    76.0    120     80   \n",
       "69996  99995     22601  61.920548       1     158   126.0    140     90   \n",
       "69997  99996     19066  52.235616       2     183   105.0    180     90   \n",
       "69998  99998     22431  61.454795       1     163    72.0    135     80   \n",
       "69999  99999     20540  56.273973       1     170    72.0    120     80   \n",
       "\n",
       "       cholesterol  gluc  smoke  alco  active  cardio  \n",
       "0                1     1      0     0       1       0  \n",
       "1                3     1      0     0       1       1  \n",
       "2                3     1      0     0       0       1  \n",
       "3                1     1      0     0       1       1  \n",
       "4                1     1      0     0       0       0  \n",
       "...            ...   ...    ...   ...     ...     ...  \n",
       "69995            1     1      1     0       1       0  \n",
       "69996            2     2      0     0       1       1  \n",
       "69997            3     1      0     1       0       1  \n",
       "69998            1     2      0     0       0       1  \n",
       "69999            2     1      0     0       1       0  \n",
       "\n",
       "[70000 rows x 14 columns]"
      ]
     },
     "execution_count": 4,
     "metadata": {},
     "output_type": "execute_result"
    }
   ],
   "source": [
    "data"
   ]
  },
  {
   "cell_type": "code",
   "execution_count": 5,
   "id": "1729a6a3",
   "metadata": {},
   "outputs": [],
   "source": [
    "X = data.iloc[:, 1:13].values\n",
    "y = data.iloc[:, 13].values"
   ]
  },
  {
   "cell_type": "code",
   "execution_count": 6,
   "id": "a6286dbd",
   "metadata": {},
   "outputs": [
    {
     "data": {
      "text/plain": [
       "array([[1.83930000e+04, 5.03917808e+01, 2.00000000e+00, ...,\n",
       "        0.00000000e+00, 0.00000000e+00, 1.00000000e+00],\n",
       "       [2.02280000e+04, 5.54191781e+01, 1.00000000e+00, ...,\n",
       "        0.00000000e+00, 0.00000000e+00, 1.00000000e+00],\n",
       "       [1.88570000e+04, 5.16630137e+01, 1.00000000e+00, ...,\n",
       "        0.00000000e+00, 0.00000000e+00, 0.00000000e+00],\n",
       "       ...,\n",
       "       [1.90660000e+04, 5.22356164e+01, 2.00000000e+00, ...,\n",
       "        0.00000000e+00, 1.00000000e+00, 0.00000000e+00],\n",
       "       [2.24310000e+04, 6.14547945e+01, 1.00000000e+00, ...,\n",
       "        0.00000000e+00, 0.00000000e+00, 0.00000000e+00],\n",
       "       [2.05400000e+04, 5.62739726e+01, 1.00000000e+00, ...,\n",
       "        0.00000000e+00, 0.00000000e+00, 1.00000000e+00]])"
      ]
     },
     "execution_count": 6,
     "metadata": {},
     "output_type": "execute_result"
    }
   ],
   "source": [
    "X"
   ]
  },
  {
   "cell_type": "code",
   "execution_count": 7,
   "id": "49589d07",
   "metadata": {},
   "outputs": [
    {
     "data": {
      "text/plain": [
       "array([0, 1, 1, ..., 1, 1, 0], dtype=int64)"
      ]
     },
     "execution_count": 7,
     "metadata": {},
     "output_type": "execute_result"
    }
   ],
   "source": [
    "y"
   ]
  },
  {
   "cell_type": "code",
   "execution_count": 8,
   "id": "6dee95e2",
   "metadata": {},
   "outputs": [],
   "source": [
    "from sklearn.preprocessing import LabelEncoder\n",
    "labelencoder_X_1 = LabelEncoder()\n",
    "y = labelencoder_X_1.fit_transform(y)"
   ]
  },
  {
   "cell_type": "code",
   "execution_count": 9,
   "id": "f0eb2eeb",
   "metadata": {},
   "outputs": [
    {
     "data": {
      "text/plain": [
       "array([0, 1, 1, ..., 1, 1, 0], dtype=int64)"
      ]
     },
     "execution_count": 9,
     "metadata": {},
     "output_type": "execute_result"
    }
   ],
   "source": [
    "y"
   ]
  },
  {
   "cell_type": "code",
   "execution_count": 11,
   "id": "ad4d91cf",
   "metadata": {},
   "outputs": [],
   "source": [
    "from sklearn.model_selection import train_test_split\n",
    "X_train, X_test, y_train, y_test = train_test_split(X, y, test_size = 0.2, random_state = 0)"
   ]
  },
  {
   "cell_type": "code",
   "execution_count": 12,
   "id": "53ded299",
   "metadata": {},
   "outputs": [],
   "source": [
    "from sklearn.preprocessing import StandardScaler\n",
    "sc = StandardScaler()\n",
    "X_train = sc.fit_transform(X_train)\n",
    "X_test = sc.transform(X_test)"
   ]
  },
  {
   "cell_type": "code",
   "execution_count": 13,
   "id": "1ca49360",
   "metadata": {},
   "outputs": [
    {
     "data": {
      "text/plain": [
       "array([[ 1.5985301 ,  1.5985301 , -0.73535519, ..., -0.31159702,\n",
       "        -0.23933665,  0.49416152],\n",
       "       [ 0.01419727,  0.01419727, -0.73535519, ..., -0.31159702,\n",
       "        -0.23933665,  0.49416152],\n",
       "       [ 0.56581583,  0.56581583, -0.73535519, ..., -0.31159702,\n",
       "        -0.23933665, -2.02362986],\n",
       "       ...,\n",
       "       [ 1.17782468,  1.17782468,  1.35988704, ..., -0.31159702,\n",
       "        -0.23933665,  0.49416152],\n",
       "       [-0.46933025, -0.46933025, -0.73535519, ..., -0.31159702,\n",
       "        -0.23933665,  0.49416152],\n",
       "       [ 0.38302379,  0.38302379,  1.35988704, ..., -0.31159702,\n",
       "        -0.23933665,  0.49416152]])"
      ]
     },
     "execution_count": 13,
     "metadata": {},
     "output_type": "execute_result"
    }
   ],
   "source": [
    "X_train"
   ]
  },
  {
   "cell_type": "code",
   "execution_count": 14,
   "id": "1f0f55a9",
   "metadata": {},
   "outputs": [
    {
     "data": {
      "text/plain": [
       "array([[-1.72779877, -1.72779877, -0.73535519, ..., -0.31159702,\n",
       "        -0.23933665,  0.49416152],\n",
       "       [ 0.13619373,  0.13619373, -0.73535519, ..., -0.31159702,\n",
       "        -0.23933665,  0.49416152],\n",
       "       [ 0.43936103,  0.43936103, -0.73535519, ..., -0.31159702,\n",
       "        -0.23933665,  0.49416152],\n",
       "       ...,\n",
       "       [ 1.21713916,  1.21713916,  1.35988704, ..., -0.31159702,\n",
       "        -0.23933665, -2.02362986],\n",
       "       [-1.96652275, -1.96652275,  1.35988704, ...,  3.20927329,\n",
       "        -0.23933665,  0.49416152],\n",
       "       [-0.22209489, -0.22209489, -0.73535519, ..., -0.31159702,\n",
       "        -0.23933665,  0.49416152]])"
      ]
     },
     "execution_count": 14,
     "metadata": {},
     "output_type": "execute_result"
    }
   ],
   "source": [
    "X_test"
   ]
  },
  {
   "cell_type": "code",
   "execution_count": 15,
   "id": "e7f1b85a",
   "metadata": {},
   "outputs": [
    {
     "data": {
      "text/plain": [
       "(56000, 12)"
      ]
     },
     "execution_count": 15,
     "metadata": {},
     "output_type": "execute_result"
    }
   ],
   "source": [
    "X_train.shape"
   ]
  },
  {
   "cell_type": "code",
   "execution_count": 16,
   "id": "c6cc8447",
   "metadata": {},
   "outputs": [
    {
     "data": {
      "text/plain": [
       "(14000, 12)"
      ]
     },
     "execution_count": 16,
     "metadata": {},
     "output_type": "execute_result"
    }
   ],
   "source": [
    "X_test.shape"
   ]
  },
  {
   "cell_type": "code",
   "execution_count": 17,
   "id": "62bb27fd",
   "metadata": {},
   "outputs": [],
   "source": [
    "import keras\n",
    "from keras.models import Sequential\n",
    "from keras.layers import Dense, Dropout\n",
    "from keras import models\n",
    "from keras import layers"
   ]
  },
  {
   "cell_type": "code",
   "execution_count": 18,
   "id": "8d054586",
   "metadata": {},
   "outputs": [],
   "source": [
    "classifier = models.Sequential()"
   ]
  },
  {
   "cell_type": "code",
   "execution_count": 19,
   "id": "da4599bb",
   "metadata": {},
   "outputs": [],
   "source": [
    "classifier.add(layers.Dense(12, activation='relu' ,use_bias=True,name = 'input'))\n",
    "classifier.add(layers.Dropout(rate=0.1))"
   ]
  },
  {
   "cell_type": "code",
   "execution_count": 20,
   "id": "765debc3",
   "metadata": {},
   "outputs": [],
   "source": [
    "classifier.add(layers.Dense(12, activation='relu',use_bias=True,name = 'hidden1'))\n",
    "classifier.add(layers.Dropout(rate=0.1))"
   ]
  },
  {
   "cell_type": "code",
   "execution_count": 21,
   "id": "1e1e4c43",
   "metadata": {},
   "outputs": [],
   "source": [
    "classifier.add(layers.Dense(1,  activation='sigmoid',use_bias=True,name = 'output'))"
   ]
  },
  {
   "cell_type": "code",
   "execution_count": 29,
   "id": "eedb1cfb",
   "metadata": {},
   "outputs": [],
   "source": [
    "classifier.compile(optimizer='adam', loss='binary_crossentropy', metrics=['accuracy'])"
   ]
  },
  {
   "cell_type": "code",
   "execution_count": 30,
   "id": "7fea0f9b",
   "metadata": {},
   "outputs": [
    {
     "name": "stdout",
     "output_type": "stream",
     "text": [
      "Epoch 1/100\n",
      "549/549 [==============================] - 2s 3ms/step - loss: 0.5550 - accuracy: 0.7296 - val_loss: 0.5636 - val_accuracy: 0.7268\n",
      "Epoch 2/100\n",
      "549/549 [==============================] - 1s 2ms/step - loss: 0.5531 - accuracy: 0.7301 - val_loss: 0.5645 - val_accuracy: 0.7188\n",
      "Epoch 3/100\n",
      "549/549 [==============================] - 1s 2ms/step - loss: 0.5528 - accuracy: 0.7294 - val_loss: 0.5637 - val_accuracy: 0.7179\n",
      "Epoch 4/100\n",
      "549/549 [==============================] - 1s 2ms/step - loss: 0.5536 - accuracy: 0.7296 - val_loss: 0.5643 - val_accuracy: 0.7241\n",
      "Epoch 5/100\n",
      "549/549 [==============================] - 1s 2ms/step - loss: 0.5529 - accuracy: 0.7294 - val_loss: 0.5647 - val_accuracy: 0.7214\n",
      "Epoch 6/100\n",
      "549/549 [==============================] - 1s 2ms/step - loss: 0.5512 - accuracy: 0.7310 - val_loss: 0.5638 - val_accuracy: 0.7205\n",
      "Epoch 7/100\n",
      "549/549 [==============================] - 2s 4ms/step - loss: 0.5496 - accuracy: 0.7319 - val_loss: 0.5636 - val_accuracy: 0.7214\n",
      "Epoch 8/100\n",
      "549/549 [==============================] - 2s 4ms/step - loss: 0.5515 - accuracy: 0.7314 - val_loss: 0.5620 - val_accuracy: 0.7241\n",
      "Epoch 9/100\n",
      "549/549 [==============================] - 2s 4ms/step - loss: 0.5496 - accuracy: 0.7315 - val_loss: 0.5623 - val_accuracy: 0.7259\n",
      "Epoch 10/100\n",
      "549/549 [==============================] - 2s 4ms/step - loss: 0.5496 - accuracy: 0.7319 - val_loss: 0.5619 - val_accuracy: 0.7241\n",
      "Epoch 11/100\n",
      "549/549 [==============================] - 1s 2ms/step - loss: 0.5506 - accuracy: 0.7328 - val_loss: 0.5617 - val_accuracy: 0.7223\n",
      "Epoch 12/100\n",
      "549/549 [==============================] - 1s 2ms/step - loss: 0.5486 - accuracy: 0.7333 - val_loss: 0.5623 - val_accuracy: 0.7259\n",
      "Epoch 13/100\n",
      "549/549 [==============================] - 1s 2ms/step - loss: 0.5504 - accuracy: 0.7325 - val_loss: 0.5633 - val_accuracy: 0.7214\n",
      "Epoch 14/100\n",
      "549/549 [==============================] - 1s 2ms/step - loss: 0.5485 - accuracy: 0.7328 - val_loss: 0.5621 - val_accuracy: 0.7223\n",
      "Epoch 15/100\n",
      "549/549 [==============================] - 1s 2ms/step - loss: 0.5492 - accuracy: 0.7334 - val_loss: 0.5641 - val_accuracy: 0.7152\n",
      "Epoch 16/100\n",
      "549/549 [==============================] - 1s 2ms/step - loss: 0.5492 - accuracy: 0.7322 - val_loss: 0.5614 - val_accuracy: 0.7214\n",
      "Epoch 17/100\n",
      "549/549 [==============================] - 1s 2ms/step - loss: 0.5489 - accuracy: 0.7325 - val_loss: 0.5621 - val_accuracy: 0.7214\n",
      "Epoch 18/100\n",
      "549/549 [==============================] - 2s 4ms/step - loss: 0.5491 - accuracy: 0.7327 - val_loss: 0.5629 - val_accuracy: 0.7152\n",
      "Epoch 19/100\n",
      "549/549 [==============================] - 2s 4ms/step - loss: 0.5478 - accuracy: 0.7335 - val_loss: 0.5628 - val_accuracy: 0.7241\n",
      "Epoch 20/100\n",
      "549/549 [==============================] - 2s 4ms/step - loss: 0.5488 - accuracy: 0.7326 - val_loss: 0.5632 - val_accuracy: 0.7161\n",
      "Epoch 21/100\n",
      "549/549 [==============================] - 2s 5ms/step - loss: 0.5481 - accuracy: 0.7327 - val_loss: 0.5636 - val_accuracy: 0.7188\n",
      "Epoch 22/100\n",
      "549/549 [==============================] - 3s 5ms/step - loss: 0.5476 - accuracy: 0.7321 - val_loss: 0.5619 - val_accuracy: 0.7205\n",
      "Epoch 23/100\n",
      "549/549 [==============================] - 2s 4ms/step - loss: 0.5475 - accuracy: 0.7341 - val_loss: 0.5623 - val_accuracy: 0.7232\n",
      "Epoch 24/100\n",
      "549/549 [==============================] - 2s 4ms/step - loss: 0.5482 - accuracy: 0.7335 - val_loss: 0.5648 - val_accuracy: 0.7179\n",
      "Epoch 25/100\n",
      "549/549 [==============================] - 3s 5ms/step - loss: 0.5480 - accuracy: 0.7329 - val_loss: 0.5644 - val_accuracy: 0.7179\n",
      "Epoch 26/100\n",
      "549/549 [==============================] - 3s 5ms/step - loss: 0.5480 - accuracy: 0.7327 - val_loss: 0.5642 - val_accuracy: 0.7152\n",
      "Epoch 27/100\n",
      "549/549 [==============================] - 3s 5ms/step - loss: 0.5490 - accuracy: 0.7329 - val_loss: 0.5632 - val_accuracy: 0.7179\n",
      "Epoch 28/100\n",
      "549/549 [==============================] - 2s 4ms/step - loss: 0.5479 - accuracy: 0.7338 - val_loss: 0.5625 - val_accuracy: 0.7232\n",
      "Epoch 29/100\n",
      "549/549 [==============================] - 2s 4ms/step - loss: 0.5487 - accuracy: 0.7333 - val_loss: 0.5622 - val_accuracy: 0.7161\n",
      "Epoch 30/100\n",
      "549/549 [==============================] - 3s 5ms/step - loss: 0.5477 - accuracy: 0.7329 - val_loss: 0.5621 - val_accuracy: 0.7223\n",
      "Epoch 31/100\n",
      "549/549 [==============================] - 3s 5ms/step - loss: 0.5486 - accuracy: 0.7336 - val_loss: 0.5621 - val_accuracy: 0.7223\n",
      "Epoch 32/100\n",
      "549/549 [==============================] - 3s 5ms/step - loss: 0.5470 - accuracy: 0.7326 - val_loss: 0.5617 - val_accuracy: 0.7277\n",
      "Epoch 33/100\n",
      "549/549 [==============================] - 3s 5ms/step - loss: 0.5475 - accuracy: 0.7346 - val_loss: 0.5607 - val_accuracy: 0.7241\n",
      "Epoch 34/100\n",
      "549/549 [==============================] - 2s 4ms/step - loss: 0.5478 - accuracy: 0.7338 - val_loss: 0.5637 - val_accuracy: 0.7188\n",
      "Epoch 35/100\n",
      "549/549 [==============================] - 2s 4ms/step - loss: 0.5471 - accuracy: 0.7343 - val_loss: 0.5622 - val_accuracy: 0.7312\n",
      "Epoch 36/100\n",
      "549/549 [==============================] - 2s 4ms/step - loss: 0.5471 - accuracy: 0.7344 - val_loss: 0.5628 - val_accuracy: 0.7304\n",
      "Epoch 37/100\n",
      "549/549 [==============================] - 2s 4ms/step - loss: 0.5472 - accuracy: 0.7316 - val_loss: 0.5627 - val_accuracy: 0.7241\n",
      "Epoch 38/100\n",
      "549/549 [==============================] - 2s 4ms/step - loss: 0.5469 - accuracy: 0.7327 - val_loss: 0.5642 - val_accuracy: 0.7250\n",
      "Epoch 39/100\n",
      "549/549 [==============================] - 2s 4ms/step - loss: 0.5471 - accuracy: 0.7336 - val_loss: 0.5620 - val_accuracy: 0.7259\n",
      "Epoch 40/100\n",
      "549/549 [==============================] - 3s 5ms/step - loss: 0.5461 - accuracy: 0.7346 - val_loss: 0.5629 - val_accuracy: 0.7250\n",
      "Epoch 41/100\n",
      "549/549 [==============================] - 3s 5ms/step - loss: 0.5467 - accuracy: 0.7334 - val_loss: 0.5623 - val_accuracy: 0.7312\n",
      "Epoch 42/100\n",
      "549/549 [==============================] - 2s 4ms/step - loss: 0.5464 - accuracy: 0.7333 - val_loss: 0.5627 - val_accuracy: 0.7223\n",
      "Epoch 43/100\n",
      "549/549 [==============================] - 1s 3ms/step - loss: 0.5466 - accuracy: 0.7321 - val_loss: 0.5618 - val_accuracy: 0.7268\n",
      "Epoch 44/100\n",
      "549/549 [==============================] - 1s 2ms/step - loss: 0.5474 - accuracy: 0.7339 - val_loss: 0.5630 - val_accuracy: 0.7205\n",
      "Epoch 45/100\n",
      "549/549 [==============================] - 1s 2ms/step - loss: 0.5467 - accuracy: 0.7323 - val_loss: 0.5624 - val_accuracy: 0.7250\n",
      "Epoch 46/100\n",
      "549/549 [==============================] - 1s 2ms/step - loss: 0.5462 - accuracy: 0.7324 - val_loss: 0.5636 - val_accuracy: 0.7286\n",
      "Epoch 47/100\n",
      "549/549 [==============================] - 1s 2ms/step - loss: 0.5468 - accuracy: 0.7336 - val_loss: 0.5621 - val_accuracy: 0.7205\n",
      "Epoch 48/100\n",
      "549/549 [==============================] - 1s 2ms/step - loss: 0.5464 - accuracy: 0.7333 - val_loss: 0.5618 - val_accuracy: 0.7268\n",
      "Epoch 49/100\n",
      "549/549 [==============================] - 1s 1ms/step - loss: 0.5468 - accuracy: 0.7349 - val_loss: 0.5606 - val_accuracy: 0.7241\n",
      "Epoch 50/100\n",
      "549/549 [==============================] - 1s 1ms/step - loss: 0.5467 - accuracy: 0.7338 - val_loss: 0.5615 - val_accuracy: 0.7312\n",
      "Epoch 51/100\n",
      "549/549 [==============================] - 1s 1ms/step - loss: 0.5474 - accuracy: 0.7339 - val_loss: 0.5627 - val_accuracy: 0.7223\n",
      "Epoch 52/100\n",
      "549/549 [==============================] - 1s 2ms/step - loss: 0.5461 - accuracy: 0.7343 - val_loss: 0.5624 - val_accuracy: 0.7223\n",
      "Epoch 53/100\n",
      "549/549 [==============================] - 1s 1ms/step - loss: 0.5471 - accuracy: 0.7342 - val_loss: 0.5620 - val_accuracy: 0.7223\n",
      "Epoch 54/100\n",
      "549/549 [==============================] - 1s 1ms/step - loss: 0.5467 - accuracy: 0.7326 - val_loss: 0.5630 - val_accuracy: 0.7250\n",
      "Epoch 55/100\n",
      "549/549 [==============================] - 1s 1ms/step - loss: 0.5457 - accuracy: 0.7342 - val_loss: 0.5617 - val_accuracy: 0.7250\n",
      "Epoch 56/100\n",
      "549/549 [==============================] - 1s 1ms/step - loss: 0.5466 - accuracy: 0.7351 - val_loss: 0.5629 - val_accuracy: 0.7268\n",
      "Epoch 57/100\n",
      "549/549 [==============================] - 1s 1ms/step - loss: 0.5457 - accuracy: 0.7346 - val_loss: 0.5619 - val_accuracy: 0.7304\n"
     ]
    },
    {
     "name": "stdout",
     "output_type": "stream",
     "text": [
      "Epoch 58/100\n",
      "549/549 [==============================] - 1s 1ms/step - loss: 0.5450 - accuracy: 0.7345 - val_loss: 0.5613 - val_accuracy: 0.7268\n",
      "Epoch 59/100\n",
      "549/549 [==============================] - 1s 1ms/step - loss: 0.5461 - accuracy: 0.7335 - val_loss: 0.5616 - val_accuracy: 0.7223\n",
      "Epoch 60/100\n",
      "549/549 [==============================] - 1s 1ms/step - loss: 0.5463 - accuracy: 0.7343 - val_loss: 0.5612 - val_accuracy: 0.7250\n",
      "Epoch 61/100\n",
      "549/549 [==============================] - 1s 1ms/step - loss: 0.5469 - accuracy: 0.7334 - val_loss: 0.5613 - val_accuracy: 0.7259\n",
      "Epoch 62/100\n",
      "549/549 [==============================] - 1s 1ms/step - loss: 0.5479 - accuracy: 0.7341 - val_loss: 0.5625 - val_accuracy: 0.7277\n",
      "Epoch 63/100\n",
      "549/549 [==============================] - 1s 1ms/step - loss: 0.5472 - accuracy: 0.7331 - val_loss: 0.5629 - val_accuracy: 0.7241\n",
      "Epoch 64/100\n",
      "549/549 [==============================] - 1s 1ms/step - loss: 0.5464 - accuracy: 0.7333 - val_loss: 0.5626 - val_accuracy: 0.7250\n",
      "Epoch 65/100\n",
      "549/549 [==============================] - 1s 1ms/step - loss: 0.5468 - accuracy: 0.7324 - val_loss: 0.5629 - val_accuracy: 0.7295\n",
      "Epoch 66/100\n",
      "549/549 [==============================] - 1s 1ms/step - loss: 0.5456 - accuracy: 0.7343 - val_loss: 0.5605 - val_accuracy: 0.7250\n",
      "Epoch 67/100\n",
      "549/549 [==============================] - 1s 2ms/step - loss: 0.5458 - accuracy: 0.7346 - val_loss: 0.5620 - val_accuracy: 0.7250\n",
      "Epoch 68/100\n",
      "549/549 [==============================] - 1s 2ms/step - loss: 0.5458 - accuracy: 0.7348 - val_loss: 0.5624 - val_accuracy: 0.7268\n",
      "Epoch 69/100\n",
      "549/549 [==============================] - 1s 1ms/step - loss: 0.5464 - accuracy: 0.7336 - val_loss: 0.5623 - val_accuracy: 0.7232\n",
      "Epoch 70/100\n",
      "549/549 [==============================] - 1s 1ms/step - loss: 0.5459 - accuracy: 0.7348 - val_loss: 0.5630 - val_accuracy: 0.7241\n",
      "Epoch 71/100\n",
      "549/549 [==============================] - 1s 1ms/step - loss: 0.5466 - accuracy: 0.7331 - val_loss: 0.5616 - val_accuracy: 0.7241\n",
      "Epoch 72/100\n",
      "549/549 [==============================] - 1s 1ms/step - loss: 0.5456 - accuracy: 0.7342 - val_loss: 0.5617 - val_accuracy: 0.7196\n",
      "Epoch 73/100\n",
      "549/549 [==============================] - 1s 1ms/step - loss: 0.5451 - accuracy: 0.7331 - val_loss: 0.5605 - val_accuracy: 0.7250\n",
      "Epoch 74/100\n",
      "549/549 [==============================] - 1s 1ms/step - loss: 0.5455 - accuracy: 0.7348 - val_loss: 0.5621 - val_accuracy: 0.7196\n",
      "Epoch 75/100\n",
      "549/549 [==============================] - 1s 1ms/step - loss: 0.5461 - accuracy: 0.7337 - val_loss: 0.5620 - val_accuracy: 0.7205\n",
      "Epoch 76/100\n",
      "549/549 [==============================] - 1s 1ms/step - loss: 0.5454 - accuracy: 0.7344 - val_loss: 0.5619 - val_accuracy: 0.7232\n",
      "Epoch 77/100\n",
      "549/549 [==============================] - 1s 1ms/step - loss: 0.5475 - accuracy: 0.7338 - val_loss: 0.5616 - val_accuracy: 0.7205\n",
      "Epoch 78/100\n",
      "549/549 [==============================] - 1s 1ms/step - loss: 0.5457 - accuracy: 0.7341 - val_loss: 0.5624 - val_accuracy: 0.7223\n",
      "Epoch 79/100\n",
      "549/549 [==============================] - 1s 1ms/step - loss: 0.5461 - accuracy: 0.7334 - val_loss: 0.5613 - val_accuracy: 0.7223\n",
      "Epoch 80/100\n",
      "549/549 [==============================] - 1s 1ms/step - loss: 0.5460 - accuracy: 0.7337 - val_loss: 0.5618 - val_accuracy: 0.7196\n",
      "Epoch 81/100\n",
      "549/549 [==============================] - 1s 1ms/step - loss: 0.5459 - accuracy: 0.7328 - val_loss: 0.5627 - val_accuracy: 0.7223\n",
      "Epoch 82/100\n",
      "549/549 [==============================] - 1s 1ms/step - loss: 0.5456 - accuracy: 0.7342 - val_loss: 0.5620 - val_accuracy: 0.7170\n",
      "Epoch 83/100\n",
      "549/549 [==============================] - 1s 1ms/step - loss: 0.5453 - accuracy: 0.7340 - val_loss: 0.5607 - val_accuracy: 0.7214\n",
      "Epoch 84/100\n",
      "549/549 [==============================] - 1s 1ms/step - loss: 0.5457 - accuracy: 0.7339 - val_loss: 0.5619 - val_accuracy: 0.7250\n",
      "Epoch 85/100\n",
      "549/549 [==============================] - 1s 1ms/step - loss: 0.5460 - accuracy: 0.7341 - val_loss: 0.5617 - val_accuracy: 0.7250\n",
      "Epoch 86/100\n",
      "549/549 [==============================] - 1s 1ms/step - loss: 0.5455 - accuracy: 0.7329 - val_loss: 0.5612 - val_accuracy: 0.7241\n",
      "Epoch 87/100\n",
      "549/549 [==============================] - 1s 1ms/step - loss: 0.5479 - accuracy: 0.7337 - val_loss: 0.5636 - val_accuracy: 0.7223\n",
      "Epoch 88/100\n",
      "549/549 [==============================] - 1s 1ms/step - loss: 0.5457 - accuracy: 0.7327 - val_loss: 0.5620 - val_accuracy: 0.7241\n",
      "Epoch 89/100\n",
      "549/549 [==============================] - 1s 1ms/step - loss: 0.5453 - accuracy: 0.7333 - val_loss: 0.5637 - val_accuracy: 0.7241\n",
      "Epoch 90/100\n",
      "549/549 [==============================] - 1s 1ms/step - loss: 0.5452 - accuracy: 0.7347 - val_loss: 0.5623 - val_accuracy: 0.7295\n",
      "Epoch 91/100\n",
      "549/549 [==============================] - 1s 1ms/step - loss: 0.5461 - accuracy: 0.7333 - val_loss: 0.5624 - val_accuracy: 0.7232\n",
      "Epoch 92/100\n",
      "549/549 [==============================] - 1s 2ms/step - loss: 0.5460 - accuracy: 0.7334 - val_loss: 0.5629 - val_accuracy: 0.7250\n",
      "Epoch 93/100\n",
      "549/549 [==============================] - 1s 1ms/step - loss: 0.5465 - accuracy: 0.7335 - val_loss: 0.5625 - val_accuracy: 0.7188\n",
      "Epoch 94/100\n",
      "549/549 [==============================] - 1s 1ms/step - loss: 0.5445 - accuracy: 0.7346 - val_loss: 0.5631 - val_accuracy: 0.7205\n",
      "Epoch 95/100\n",
      "549/549 [==============================] - 1s 1ms/step - loss: 0.5456 - accuracy: 0.7340 - val_loss: 0.5630 - val_accuracy: 0.7214\n",
      "Epoch 96/100\n",
      "549/549 [==============================] - 1s 1ms/step - loss: 0.5459 - accuracy: 0.7341 - val_loss: 0.5612 - val_accuracy: 0.7179\n",
      "Epoch 97/100\n",
      "549/549 [==============================] - 1s 1ms/step - loss: 0.5454 - accuracy: 0.7348 - val_loss: 0.5625 - val_accuracy: 0.7205\n",
      "Epoch 98/100\n",
      "549/549 [==============================] - 1s 1ms/step - loss: 0.5462 - accuracy: 0.7343 - val_loss: 0.5622 - val_accuracy: 0.7241\n",
      "Epoch 99/100\n",
      "549/549 [==============================] - 1s 1ms/step - loss: 0.5457 - accuracy: 0.7348 - val_loss: 0.5639 - val_accuracy: 0.7268\n",
      "Epoch 100/100\n",
      "549/549 [==============================] - 1s 1ms/step - loss: 0.5457 - accuracy: 0.7326 - val_loss: 0.5644 - val_accuracy: 0.7196\n"
     ]
    }
   ],
   "source": [
    "history = classifier.fit(X_train, y_train, batch_size=100, epochs=100,validation_split = 0.02)"
   ]
  },
  {
   "cell_type": "code",
   "execution_count": 31,
   "id": "cf261835",
   "metadata": {},
   "outputs": [
    {
     "name": "stdout",
     "output_type": "stream",
     "text": [
      "Model: \"sequential\"\n",
      "_________________________________________________________________\n",
      "Layer (type)                 Output Shape              Param #   \n",
      "=================================================================\n",
      "input (Dense)                (None, 12)                156       \n",
      "_________________________________________________________________\n",
      "dropout (Dropout)            (None, 12)                0         \n",
      "_________________________________________________________________\n",
      "hidden1 (Dense)              (None, 12)                156       \n",
      "_________________________________________________________________\n",
      "dropout_1 (Dropout)          (None, 12)                0         \n",
      "_________________________________________________________________\n",
      "output (Dense)               (None, 1)                 13        \n",
      "=================================================================\n",
      "Total params: 325\n",
      "Trainable params: 325\n",
      "Non-trainable params: 0\n",
      "_________________________________________________________________\n"
     ]
    }
   ],
   "source": [
    "classifier.summary()"
   ]
  },
  {
   "cell_type": "code",
   "execution_count": 32,
   "id": "a03c4fe4",
   "metadata": {},
   "outputs": [
    {
     "data": {
      "text/plain": [
       "[<tf.Variable 'input/kernel:0' shape=(12, 12) dtype=float32, numpy=\n",
       " array([[ 3.83899808e-01,  1.69875354e-01,  1.31449610e-01,\n",
       "         -5.87779820e-01,  2.34277979e-01, -1.80614993e-01,\n",
       "         -4.30697612e-02, -4.36798662e-01,  3.78667116e-01,\n",
       "          2.19583318e-01,  1.91744030e-01, -1.89905941e-01],\n",
       "        [ 5.99754393e-01, -8.85015503e-02,  3.74571681e-01,\n",
       "          2.10306183e-01, -2.19680190e-01,  1.69994906e-01,\n",
       "          1.52537206e-04,  4.21699017e-01,  2.50457585e-01,\n",
       "         -2.23337755e-01, -2.62025326e-01, -1.05706677e-01],\n",
       "        [-1.71571448e-01,  1.20864145e-03,  2.18342021e-01,\n",
       "         -2.10637208e-02, -7.51293777e-03,  1.07831676e-02,\n",
       "          3.61952223e-02, -2.58291513e-02,  2.91432198e-02,\n",
       "          7.97408447e-02,  1.52941672e-02, -9.51172411e-03],\n",
       "        [ 9.13591310e-02,  1.28161669e-01, -1.54117823e-01,\n",
       "         -5.98947778e-02, -1.02040470e-02, -1.29963206e-02,\n",
       "          4.14380021e-02, -1.83649827e-02, -2.07286794e-02,\n",
       "          6.34928867e-02,  1.15355207e-02,  2.87403492e-03],\n",
       "        [ 1.41857406e-02, -3.10321122e-01,  5.23836732e-01,\n",
       "         -2.32308537e-01,  4.24790680e-02,  4.41529416e-02,\n",
       "         -8.98106396e-02,  1.21091574e-01,  2.84377903e-01,\n",
       "          8.98383483e-02,  3.93299060e-03, -9.44806263e-02],\n",
       "        [ 1.27099991e-01,  1.08824682e+00,  3.07355225e-01,\n",
       "         -2.02264801e-01, -3.96785212e+00, -4.48449993e+00,\n",
       "         -5.04416609e+00,  1.24816284e-01, -1.23769295e+00,\n",
       "          1.00833678e+00,  2.08762169e+00, -1.52606320e+00],\n",
       "        [-6.41878415e-03, -1.09678522e-01,  1.56242371e-01,\n",
       "         -1.15791965e+00, -2.27384496e+00, -5.22846520e-01,\n",
       "          1.04711223e-02, -9.52772349e-02,  5.97275421e-02,\n",
       "         -2.49116707e+00,  2.38630176e-02, -1.29845476e+00],\n",
       "        [ 1.26540899e-01, -6.90792650e-02,  6.30768538e-01,\n",
       "         -1.72509849e-01, -7.35514015e-02, -5.43713756e-02,\n",
       "         -9.59233046e-02,  8.01420212e-01, -1.40177101e-01,\n",
       "         -1.33066013e-01, -1.28705315e-02, -7.20323384e-01],\n",
       "        [-1.93755738e-02, -1.03024049e-02, -2.61004984e-01,\n",
       "         -5.56363106e-01,  8.10105260e-03,  1.39648616e-02,\n",
       "         -7.19918311e-03, -2.06322759e-01,  1.18703470e-01,\n",
       "          1.88902691e-01, -2.48761792e-02, -1.64564371e-01],\n",
       "        [ 1.36167891e-02, -1.15313664e-01, -5.59993088e-02,\n",
       "          3.36775854e-02,  2.49751471e-02,  2.58561280e-02,\n",
       "         -1.37959830e-02,  7.61624798e-02, -2.42102757e-01,\n",
       "          2.68587307e-03, -5.75436186e-03,  5.93469180e-02],\n",
       "        [-3.51485945e-02, -1.35555461e-01, -5.66744395e-02,\n",
       "          1.29782647e-01,  2.14785431e-02, -4.52609569e-01,\n",
       "          6.82529658e-02, -1.46011459e-02, -2.69500405e-01,\n",
       "          1.68120470e-02,  1.30108008e-02, -1.98325645e-02],\n",
       "        [-8.41580033e-02, -1.68166354e-01, -2.86470532e-01,\n",
       "         -1.54208867e-02, -1.96771813e-04,  6.46872539e-03,\n",
       "          3.88121675e-03,  1.21940210e-01, -1.22071877e-01,\n",
       "          2.21315131e-01, -2.23318092e-03,  7.10298717e-02]], dtype=float32)>,\n",
       " <tf.Variable 'input/bias:0' shape=(12,) dtype=float32, numpy=\n",
       " array([-0.7265203 , -0.542308  , -0.12021426, -0.93737346, -0.02845801,\n",
       "         0.10640643, -0.04793823, -0.8791007 , -0.16776098, -0.8754601 ,\n",
       "        -0.05278507, -0.6489919 ], dtype=float32)>,\n",
       " <tf.Variable 'hidden1/kernel:0' shape=(12, 12) dtype=float32, numpy=\n",
       " array([[-1.17910460e-01,  7.27851242e-02,  3.80752206e-01,\n",
       "          1.12994507e-01, -4.32522565e-01,  2.55005002e-01,\n",
       "         -5.38020253e-01, -2.60527641e-01, -5.41426837e-02,\n",
       "         -1.52079031e-01, -4.77564365e-01,  5.45842052e-01],\n",
       "        [-3.03798079e-01, -2.30241716e-01, -6.05538115e-02,\n",
       "         -1.08410306e-01, -1.27236688e+00, -1.59277451e+00,\n",
       "         -3.98337305e-01, -2.12498024e-01,  1.89461187e-01,\n",
       "         -2.02409282e-01, -1.15403843e+00,  1.06994668e-02],\n",
       "        [ 8.94089267e-02, -2.55218614e-02,  6.68317750e-02,\n",
       "          3.77518474e-03, -2.13593096e-01,  5.09467870e-02,\n",
       "         -2.44201958e-01, -1.90951839e-01,  2.82153398e-01,\n",
       "         -1.07213102e-01, -2.06284332e+00,  2.82877028e-01],\n",
       "        [-9.12703723e-02, -3.45043987e-01, -2.99276918e-01,\n",
       "         -9.09726694e-02,  6.56556666e-01, -5.28334856e-01,\n",
       "          5.76792061e-01,  4.21225071e-01, -4.61519957e-01,\n",
       "          5.33649437e-02,  5.55752814e-01, -2.26789683e-01],\n",
       "        [-1.41376579e+00, -4.27635670e+00, -1.07725888e-01,\n",
       "         -4.75299329e-01, -1.27837688e-01,  1.39565066e-01,\n",
       "          2.58123517e-01,  1.49637431e-01, -2.33607754e-01,\n",
       "         -1.31464875e+00,  1.16697222e-01, -2.83016235e-01],\n",
       "        [-8.07793558e-01, -3.68858933e+00, -1.35909975e-01,\n",
       "         -3.98534685e-01,  2.59404648e-02,  1.87911645e-01,\n",
       "          4.19460237e-02,  2.79110465e-02, -5.80965877e-01,\n",
       "         -8.32156301e-01,  9.52708572e-02, -2.78207183e-01],\n",
       "        [-2.03586745e+00, -3.38343263e+00, -3.12393576e-01,\n",
       "         -1.38507247e+00,  2.83445328e-01,  3.51546764e-01,\n",
       "          7.35121034e-03, -2.20472866e-05,  3.05513561e-01,\n",
       "         -2.03044391e+00,  1.23148359e-01, -5.67107022e-01],\n",
       "        [-8.25343370e-01, -2.66566217e-01,  7.51615584e-01,\n",
       "          2.89012700e-01, -4.41864640e-01,  8.61693472e-02,\n",
       "         -4.57476109e-01, -3.60694826e-01, -4.24005240e-01,\n",
       "         -5.19736037e-02, -1.06317866e+00,  5.84623098e-01],\n",
       "        [-1.15653567e-01, -1.53136402e-01,  4.73043770e-02,\n",
       "         -9.20841023e-02, -3.36385399e-01,  1.22769795e-01,\n",
       "         -2.98782080e-01, -2.22503051e-01,  7.34745041e-02,\n",
       "         -1.11105507e-02, -1.09619677e+00,  1.20638095e-01],\n",
       "        [-4.10594165e-01, -6.61613226e-01, -2.05306530e-01,\n",
       "         -1.36321977e-01, -1.35089800e-01,  3.95671397e-01,\n",
       "         -1.38039827e-01, -7.07691759e-02, -8.11308622e-01,\n",
       "         -8.44932079e-01,  3.35295558e-01, -5.97011447e-01],\n",
       "        [ 1.77462161e-01,  1.57606050e-01,  5.03518432e-02,\n",
       "          8.59773310e-04, -1.63358331e+00, -6.86243117e-01,\n",
       "         -9.54179049e-01, -1.69383633e+00,  1.59867629e-01,\n",
       "          1.28984854e-01, -2.59731436e+00,  1.29796848e-01],\n",
       "        [ 3.27616811e-01,  2.16184989e-01, -3.94402444e-01,\n",
       "         -1.52041048e-01,  4.96987164e-01,  1.92338720e-01,\n",
       "          3.81364763e-01,  2.98850209e-01, -5.56499362e-01,\n",
       "          3.42847854e-01,  3.82218450e-01, -3.94026995e-01]], dtype=float32)>,\n",
       " <tf.Variable 'hidden1/bias:0' shape=(12,) dtype=float32, numpy=\n",
       " array([ 0.48929396,  0.42398185,  0.27860296,  0.47633314,  0.43355584,\n",
       "        -1.0397422 ,  0.2715362 ,  0.2914383 , -0.81234723,  0.54742694,\n",
       "         0.09601785,  0.4767958 ], dtype=float32)>,\n",
       " <tf.Variable 'output/kernel:0' shape=(12, 1) dtype=float32, numpy=\n",
       " array([[ 0.79955846],\n",
       "        [ 1.0526052 ],\n",
       "        [ 0.4105556 ],\n",
       "        [ 0.55704975],\n",
       "        [-0.37529925],\n",
       "        [ 1.0788875 ],\n",
       "        [-0.44206747],\n",
       "        [-0.5252825 ],\n",
       "        [-0.49686855],\n",
       "        [ 0.74089044],\n",
       "        [-0.5961029 ],\n",
       "        [ 0.27915332]], dtype=float32)>,\n",
       " <tf.Variable 'output/bias:0' shape=(1,) dtype=float32, numpy=array([-0.12860315], dtype=float32)>]"
      ]
     },
     "execution_count": 32,
     "metadata": {},
     "output_type": "execute_result"
    }
   ],
   "source": [
    "classifier.weights"
   ]
  },
  {
   "cell_type": "code",
   "execution_count": 33,
   "id": "37296299",
   "metadata": {},
   "outputs": [
    {
     "data": {
      "image/png": "[encoded data removed]",
      "text/plain": [
       "<Figure size 432x288 with 1 Axes>"
      ]
     },
     "metadata": {
      "needs_background": "light"
     },
     "output_type": "display_data"
    }
   ],
   "source": [
    "plt.plot(history.history['accuracy'])\n",
    "plt.show()"
   ]
  },
  {
   "cell_type": "code",
   "execution_count": 34,
   "id": "c0a95a4b",
   "metadata": {},
   "outputs": [],
   "source": [
    "y_pred = classifier.predict(X_test)\n",
    "y_pred = (y_pred > 0.5)"
   ]
  },
  {
   "cell_type": "code",
   "execution_count": 35,
   "id": "de0cc468",
   "metadata": {},
   "outputs": [
    {
     "data": {
      "text/plain": [
       "array([[5428, 1641],\n",
       "       [2085, 4846]], dtype=int64)"
      ]
     },
     "execution_count": 35,
     "metadata": {},
     "output_type": "execute_result"
    }
   ],
   "source": [
    "from sklearn.metrics import confusion_matrix\n",
    "cm = confusion_matrix(y_test, y_pred)\n",
    "cm"
   ]
  },
  {
   "cell_type": "code",
   "execution_count": 36,
   "id": "93c1bc54",
   "metadata": {},
   "outputs": [
    {
     "name": "stdout",
     "output_type": "stream",
     "text": [
      "Our accuracy is 73.38571428571429%\n"
     ]
    }
   ],
   "source": [
    "print(\"Our accuracy is {}%\".format(((cm[0][0] + cm[1][1])/14000)*100))"
   ]
  }
 ],
 "metadata": {
  "kernelspec": {
   "display_name": "Python 3 (ipykernel)",
   "language": "python",
   "name": "python3"
  },
  "language_info": {
   "codemirror_mode": {
    "name": "ipython",
    "version": 3
   },
   "file_extension": ".py",
   "mimetype": "text/x-python",
   "name": "python",
   "nbconvert_exporter": "python",
   "pygments_lexer": "ipython3",
   "version": "3.9.6"
  }
 },
 "nbformat": 4,
 "nbformat_minor": 5
}
